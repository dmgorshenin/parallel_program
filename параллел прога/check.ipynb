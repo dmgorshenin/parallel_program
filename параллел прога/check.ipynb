{
 "cells": [
  {
   "cell_type": "code",
   "execution_count": 43,
   "metadata": {},
   "outputs": [
    {
     "name": "stdout",
     "output_type": "stream",
     "text": [
      "Результаты совпадают\n"
     ]
    }
   ],
   "source": [
    "import numpy as np\n",
    "\n",
    "\n",
    "def read_matrix_from_file(filename):\n",
    "    with open(filename, 'r') as file:\n",
    "        lines = file.readlines()\n",
    "        matrix = [[int(x) for x in line.split()] for line in lines[1:]]\n",
    "    return np.array(matrix)\n",
    "\n",
    "\n",
    "matrix1 = read_matrix_from_file(\"matrix1.txt\")\n",
    "matrix2 = read_matrix_from_file(\"matrix2.txt\")\n",
    "result_matrix_cpp = read_matrix_from_file(\"result_matrix.txt\")\n",
    "\n",
    "result_matrix_numpy = np.dot(matrix1, matrix2)\n",
    "\n",
    "if np.array_equal(result_matrix_numpy, result_matrix_cpp):\n",
    "    print(\"Результаты совпадают\")\n",
    "else:\n",
    "    print(\"Результаты не совпадают\")"
   ]
  },
  {
   "cell_type": "code",
   "execution_count": null,
   "metadata": {},
   "outputs": [],
   "source": [
    "import matplotlib.pyplot as plt\n",
    "import scipy.stats as sts\n",
    "import statistics as st\n",
    "import pandas as pd\n",
    "\n",
    "\n",
    "def read_results(filename):\n",
    "    sizes = []\n",
    "    computation_times = []\n",
    "    with open(filename, 'r') as file:\n",
    "        while True:\n",
    "            tmp = []\n",
    "            size_line = file.readline().strip()\n",
    "            if not size_line:\n",
    "                break\n",
    "            size = int(size_line)\n",
    "            task_size = int(file.readline().strip())\n",
    "            for i in range(0, 10):\n",
    "                comp_time = file.readline().strip()\n",
    "                if not comp_time:\n",
    "                    break\n",
    "                tmp.append(int(comp_time))\n",
    "\n",
    "            sizes.append(size)\n",
    "            computation_times.append(tmp)\n",
    "    return sizes, computation_times\n",
    "\n",
    "\n",
    "def plot_intervals(sizes, intervals):\n",
    "    means = [interval[0] for interval in intervals]\n",
    "    lower_bounds = [interval[1][0] for interval in intervals]\n",
    "    upper_bounds = [interval[1][1] for interval in intervals]\n",
    "\n",
    "    plt.errorbar(sizes, means, yerr=[(upper-lower)/2 for upper, lower in zip(upper_bounds, lower_bounds)], fmt='o-', capsize=5)\n",
    "    plt.xlabel('Размер матрицы')\n",
    "    plt.ylabel('Время умножения')\n",
    "    plt.show()\n",
    "\n",
    "\n",
    "def get_intervals(computation_times):\n",
    "    gamma = 0.95\n",
    "    intervals = []\n",
    "    for time in computation_times:\n",
    "        n = len(time)\n",
    "        x_mean = np.mean(time)\n",
    "        s = np.sqrt(st.variance(time))\n",
    "        confidence_interval = sts.t.interval(gamma, df=n-1, loc=x_mean, scale=s/np.sqrt(n))\n",
    "        intervals.append([x_mean, confidence_interval])\n",
    "    return intervals\n",
    "\n",
    "\n",
    "\n",
    "sizes, computation_times = read_results(\"stats.txt\")\n",
    "arr = pd.DataFrame({\"sizes\":sizes, \"times\":computation_times})\n",
    "intervals = get_intervals(computation_times)"
   ]
  },
  {
   "cell_type": "code",
   "execution_count": 45,
   "metadata": {},
   "outputs": [
    {
     "data": {
      "text/html": [
       "<div>\n",
       "<style scoped>\n",
       "    .dataframe tbody tr th:only-of-type {\n",
       "        vertical-align: middle;\n",
       "    }\n",
       "\n",
       "    .dataframe tbody tr th {\n",
       "        vertical-align: top;\n",
       "    }\n",
       "\n",
       "    .dataframe thead th {\n",
       "        text-align: right;\n",
       "    }\n",
       "</style>\n",
       "<table border=\"1\" class=\"dataframe\">\n",
       "  <thead>\n",
       "    <tr style=\"text-align: right;\">\n",
       "      <th></th>\n",
       "      <th>sizes</th>\n",
       "      <th>times</th>\n",
       "    </tr>\n",
       "  </thead>\n",
       "  <tbody>\n",
       "    <tr>\n",
       "      <th>0</th>\n",
       "      <td>500</td>\n",
       "      <td>[1360, 679, 650, 635, 653, 652, 642, 652, 641,...</td>\n",
       "    </tr>\n",
       "    <tr>\n",
       "      <th>1</th>\n",
       "      <td>600</td>\n",
       "      <td>[1129, 1096, 1115, 1135, 1117, 1097, 1098, 119...</td>\n",
       "    </tr>\n",
       "    <tr>\n",
       "      <th>2</th>\n",
       "      <td>700</td>\n",
       "      <td>[1887, 2427, 1962, 2200, 2682, 2133, 2123, 214...</td>\n",
       "    </tr>\n",
       "    <tr>\n",
       "      <th>3</th>\n",
       "      <td>800</td>\n",
       "      <td>[3368, 2741, 3519, 3442, 3262, 3120, 3334, 356...</td>\n",
       "    </tr>\n",
       "    <tr>\n",
       "      <th>4</th>\n",
       "      <td>900</td>\n",
       "      <td>[4549, 4481, 4062, 4128, 4504, 4009, 4256, 408...</td>\n",
       "    </tr>\n",
       "    <tr>\n",
       "      <th>5</th>\n",
       "      <td>1000</td>\n",
       "      <td>[6080, 6299, 6252, 6166, 6260, 6521, 7317, 712...</td>\n",
       "    </tr>\n",
       "    <tr>\n",
       "      <th>6</th>\n",
       "      <td>1100</td>\n",
       "      <td>[7779, 7779, 7805, 7768, 7533, 8278, 8361, 796...</td>\n",
       "    </tr>\n",
       "    <tr>\n",
       "      <th>7</th>\n",
       "      <td>1200</td>\n",
       "      <td>[10671, 12228, 11380, 11546, 11936, 12880, 122...</td>\n",
       "    </tr>\n",
       "    <tr>\n",
       "      <th>8</th>\n",
       "      <td>1300</td>\n",
       "      <td>[16410, 16668, 16137, 16544, 16803, 16373, 167...</td>\n",
       "    </tr>\n",
       "    <tr>\n",
       "      <th>9</th>\n",
       "      <td>1400</td>\n",
       "      <td>[18119, 17766, 18880, 18784, 18438, 18488, 193...</td>\n",
       "    </tr>\n",
       "    <tr>\n",
       "      <th>10</th>\n",
       "      <td>1500</td>\n",
       "      <td>[27403, 26949, 25430, 26318, 29689, 28260, 262...</td>\n",
       "    </tr>\n",
       "    <tr>\n",
       "      <th>11</th>\n",
       "      <td>1600</td>\n",
       "      <td>[29570, 29175, 29199, 30640, 30860, 30196, 308...</td>\n",
       "    </tr>\n",
       "    <tr>\n",
       "      <th>12</th>\n",
       "      <td>1700</td>\n",
       "      <td>[39141, 41415, 46400, 43272, 63091, 40185, 375...</td>\n",
       "    </tr>\n",
       "    <tr>\n",
       "      <th>13</th>\n",
       "      <td>1800</td>\n",
       "      <td>[49715, 47506, 47403, 48227, 46422, 45736, 459...</td>\n",
       "    </tr>\n",
       "    <tr>\n",
       "      <th>14</th>\n",
       "      <td>1900</td>\n",
       "      <td>[56772, 54655, 59255, 57541, 56583, 58578, 574...</td>\n",
       "    </tr>\n",
       "    <tr>\n",
       "      <th>15</th>\n",
       "      <td>2000</td>\n",
       "      <td>[73368, 71279, 71584, 69897, 68054, 66329, 681...</td>\n",
       "    </tr>\n",
       "    <tr>\n",
       "      <th>16</th>\n",
       "      <td>2100</td>\n",
       "      <td>[78669, 79877, 80299, 81536, 83182, 83356, 829...</td>\n",
       "    </tr>\n",
       "    <tr>\n",
       "      <th>17</th>\n",
       "      <td>2200</td>\n",
       "      <td>[92226, 92335, 93954, 96166, 96837, 96543, 929...</td>\n",
       "    </tr>\n",
       "  </tbody>\n",
       "</table>\n",
       "</div>"
      ],
      "text/plain": [
       "    sizes                                              times\n",
       "0     500  [1360, 679, 650, 635, 653, 652, 642, 652, 641,...\n",
       "1     600  [1129, 1096, 1115, 1135, 1117, 1097, 1098, 119...\n",
       "2     700  [1887, 2427, 1962, 2200, 2682, 2133, 2123, 214...\n",
       "3     800  [3368, 2741, 3519, 3442, 3262, 3120, 3334, 356...\n",
       "4     900  [4549, 4481, 4062, 4128, 4504, 4009, 4256, 408...\n",
       "5    1000  [6080, 6299, 6252, 6166, 6260, 6521, 7317, 712...\n",
       "6    1100  [7779, 7779, 7805, 7768, 7533, 8278, 8361, 796...\n",
       "7    1200  [10671, 12228, 11380, 11546, 11936, 12880, 122...\n",
       "8    1300  [16410, 16668, 16137, 16544, 16803, 16373, 167...\n",
       "9    1400  [18119, 17766, 18880, 18784, 18438, 18488, 193...\n",
       "10   1500  [27403, 26949, 25430, 26318, 29689, 28260, 262...\n",
       "11   1600  [29570, 29175, 29199, 30640, 30860, 30196, 308...\n",
       "12   1700  [39141, 41415, 46400, 43272, 63091, 40185, 375...\n",
       "13   1800  [49715, 47506, 47403, 48227, 46422, 45736, 459...\n",
       "14   1900  [56772, 54655, 59255, 57541, 56583, 58578, 574...\n",
       "15   2000  [73368, 71279, 71584, 69897, 68054, 66329, 681...\n",
       "16   2100  [78669, 79877, 80299, 81536, 83182, 83356, 829...\n",
       "17   2200  [92226, 92335, 93954, 96166, 96837, 96543, 929..."
      ]
     },
     "execution_count": 45,
     "metadata": {},
     "output_type": "execute_result"
    }
   ],
   "source": [
    "arr"
   ]
  },
  {
   "cell_type": "code",
   "execution_count": 46,
   "metadata": {},
   "outputs": [
    {
     "data": {
      "image/png": "[encoded data removed]",
      "text/plain": [
       "<Figure size 640x480 with 1 Axes>"
      ]
     },
     "metadata": {},
     "output_type": "display_data"
    }
   ],
   "source": [
    "plot_intervals(sizes, intervals)"
   ]
  },
  {
   "attachments": {
    "image.png": {
     "image/png": "[encoded data removed]"
    }
   },
   "cell_type": "markdown",
   "metadata": {},
   "source": [
    "Процессор\tIntel(R) Core(TM) i5-9300H CPU @ 2.40GHz   2.40 GHz\n",
    "\n",
    "Оперативная память\t16,0 ГБ (доступно: 15,8 ГБ)\n",
    "\n",
    "Тип системы\t64-разрядная операционная система, процессор x64\n",
    "\n",
    "\n",
    "![image.png](attachment:image.png)"
   ]
  },
  {
   "cell_type": "markdown",
   "metadata": {},
   "source": [
    "В ходе проведенных измерений по графику видно, что зависимость времени вычисления произведения матриц от их размерности стремится к О(n^2)."
   ]
  }
 ],
 "metadata": {
  "kernelspec": {
   "display_name": "trash",
   "language": "python",
   "name": "python3"
  },
  "language_info": {
   "codemirror_mode": {
    "name": "ipython",
    "version": 3
   },
   "file_extension": ".py",
   "mimetype": "text/x-python",
   "name": "python",
   "nbconvert_exporter": "python",
   "pygments_lexer": "ipython3",
   "version": "3.9.18"
  }
 },
 "nbformat": 4,
 "nbformat_minor": 2
}
